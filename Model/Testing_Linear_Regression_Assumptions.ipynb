{
  "nbformat": 4,
  "nbformat_minor": 0,
  "metadata": {
    "colab": {
      "name": "Testing Linear Regression Assumptions.ipynb",
      "provenance": [],
      "authorship_tag": "ABX9TyM7sENcDtIE9Dj4+zc4x8H+",
      "include_colab_link": true
    },
    "kernelspec": {
      "name": "python3",
      "display_name": "Python 3"
    }
  },
  "cells": [
    {
      "cell_type": "markdown",
      "metadata": {
        "id": "view-in-github",
        "colab_type": "text"
      },
      "source": [
        "<a href=\"https://colab.research.google.com/github/sharonwu827/Toolbox/blob/main/Testing_Linear_Regression_Assumptions.ipynb\" target=\"_parent\"><img src=\"https://colab.research.google.com/assets/colab-badge.svg\" alt=\"Open In Colab\"/></a>"
      ]
    },
    {
      "cell_type": "code",
      "metadata": {
        "id": "oDXGrgJIGZSg"
      },
      "source": [
        "import numpy as np\n",
        "import pandas as pd\n",
        "import matplotlib.pyplot as plt\n",
        "import seaborn as sns\n",
        "from sklearn import datasets\n",
        "import statsmodels.api as sm  #statsmodels’ ols function \n",
        "%matplotlib inline"
      ],
      "execution_count": null,
      "outputs": []
    },
    {
      "cell_type": "code",
      "metadata": {
        "colab": {
          "base_uri": "https://localhost:8080/",
          "height": 224
        },
        "id": "FEroDMkcGe8n",
        "outputId": "d54cc819-9897-42e2-d6f4-bbec2ccf2da1"
      },
      "source": [
        "\"\"\"\n",
        "Real-world data of Boston housing prices\n",
        "Additional Documentation: https://www.cs.toronto.edu/~delve/data/boston/bostonDetail.html\n",
        "\n",
        "Attributes:\n",
        "data: Features/predictors\n",
        "label: Target/label/response variable\n",
        "feature_names: Abbreviations of names of features\n",
        "\"\"\"\n",
        "boston = datasets.load_boston()\n",
        "df = pd.DataFrame(boston.data, columns=boston.feature_names)\n",
        "df['HousePrice'] = boston.target\n",
        "\n",
        "df.head()"
      ],
      "execution_count": null,
      "outputs": [
        {
          "output_type": "execute_result",
          "data": {
            "text/html": [
              "<div>\n",
              "<style scoped>\n",
              "    .dataframe tbody tr th:only-of-type {\n",
              "        vertical-align: middle;\n",
              "    }\n",
              "\n",
              "    .dataframe tbody tr th {\n",
              "        vertical-align: top;\n",
              "    }\n",
              "\n",
              "    .dataframe thead th {\n",
              "        text-align: right;\n",
              "    }\n",
              "</style>\n",
              "<table border=\"1\" class=\"dataframe\">\n",
              "  <thead>\n",
              "    <tr style=\"text-align: right;\">\n",
              "      <th></th>\n",
              "      <th>CRIM</th>\n",
              "      <th>ZN</th>\n",
              "      <th>INDUS</th>\n",
              "      <th>CHAS</th>\n",
              "      <th>NOX</th>\n",
              "      <th>RM</th>\n",
              "      <th>AGE</th>\n",
              "      <th>DIS</th>\n",
              "      <th>RAD</th>\n",
              "      <th>TAX</th>\n",
              "      <th>PTRATIO</th>\n",
              "      <th>B</th>\n",
              "      <th>LSTAT</th>\n",
              "      <th>HousePrice</th>\n",
              "    </tr>\n",
              "  </thead>\n",
              "  <tbody>\n",
              "    <tr>\n",
              "      <th>0</th>\n",
              "      <td>0.00632</td>\n",
              "      <td>18.0</td>\n",
              "      <td>2.31</td>\n",
              "      <td>0.0</td>\n",
              "      <td>0.538</td>\n",
              "      <td>6.575</td>\n",
              "      <td>65.2</td>\n",
              "      <td>4.0900</td>\n",
              "      <td>1.0</td>\n",
              "      <td>296.0</td>\n",
              "      <td>15.3</td>\n",
              "      <td>396.90</td>\n",
              "      <td>4.98</td>\n",
              "      <td>24.0</td>\n",
              "    </tr>\n",
              "    <tr>\n",
              "      <th>1</th>\n",
              "      <td>0.02731</td>\n",
              "      <td>0.0</td>\n",
              "      <td>7.07</td>\n",
              "      <td>0.0</td>\n",
              "      <td>0.469</td>\n",
              "      <td>6.421</td>\n",
              "      <td>78.9</td>\n",
              "      <td>4.9671</td>\n",
              "      <td>2.0</td>\n",
              "      <td>242.0</td>\n",
              "      <td>17.8</td>\n",
              "      <td>396.90</td>\n",
              "      <td>9.14</td>\n",
              "      <td>21.6</td>\n",
              "    </tr>\n",
              "    <tr>\n",
              "      <th>2</th>\n",
              "      <td>0.02729</td>\n",
              "      <td>0.0</td>\n",
              "      <td>7.07</td>\n",
              "      <td>0.0</td>\n",
              "      <td>0.469</td>\n",
              "      <td>7.185</td>\n",
              "      <td>61.1</td>\n",
              "      <td>4.9671</td>\n",
              "      <td>2.0</td>\n",
              "      <td>242.0</td>\n",
              "      <td>17.8</td>\n",
              "      <td>392.83</td>\n",
              "      <td>4.03</td>\n",
              "      <td>34.7</td>\n",
              "    </tr>\n",
              "    <tr>\n",
              "      <th>3</th>\n",
              "      <td>0.03237</td>\n",
              "      <td>0.0</td>\n",
              "      <td>2.18</td>\n",
              "      <td>0.0</td>\n",
              "      <td>0.458</td>\n",
              "      <td>6.998</td>\n",
              "      <td>45.8</td>\n",
              "      <td>6.0622</td>\n",
              "      <td>3.0</td>\n",
              "      <td>222.0</td>\n",
              "      <td>18.7</td>\n",
              "      <td>394.63</td>\n",
              "      <td>2.94</td>\n",
              "      <td>33.4</td>\n",
              "    </tr>\n",
              "    <tr>\n",
              "      <th>4</th>\n",
              "      <td>0.06905</td>\n",
              "      <td>0.0</td>\n",
              "      <td>2.18</td>\n",
              "      <td>0.0</td>\n",
              "      <td>0.458</td>\n",
              "      <td>7.147</td>\n",
              "      <td>54.2</td>\n",
              "      <td>6.0622</td>\n",
              "      <td>3.0</td>\n",
              "      <td>222.0</td>\n",
              "      <td>18.7</td>\n",
              "      <td>396.90</td>\n",
              "      <td>5.33</td>\n",
              "      <td>36.2</td>\n",
              "    </tr>\n",
              "  </tbody>\n",
              "</table>\n",
              "</div>"
            ],
            "text/plain": [
              "      CRIM    ZN  INDUS  CHAS    NOX  ...    TAX  PTRATIO       B  LSTAT  HousePrice\n",
              "0  0.00632  18.0   2.31   0.0  0.538  ...  296.0     15.3  396.90   4.98        24.0\n",
              "1  0.02731   0.0   7.07   0.0  0.469  ...  242.0     17.8  396.90   9.14        21.6\n",
              "2  0.02729   0.0   7.07   0.0  0.469  ...  242.0     17.8  392.83   4.03        34.7\n",
              "3  0.03237   0.0   2.18   0.0  0.458  ...  222.0     18.7  394.63   2.94        33.4\n",
              "4  0.06905   0.0   2.18   0.0  0.458  ...  222.0     18.7  396.90   5.33        36.2\n",
              "\n",
              "[5 rows x 14 columns]"
            ]
          },
          "metadata": {
            "tags": []
          },
          "execution_count": 43
        }
      ]
    },
    {
      "cell_type": "markdown",
      "metadata": {
        "id": "ioKcx_irG2_C"
      },
      "source": [
        "## To fit a linear model with scikit-learn\n",
        "- import linear_model from sklearn\n",
        "- create a LinearRegression instance, which uses the OLS method to fit a linear model"
      ]
    },
    {
      "cell_type": "code",
      "metadata": {
        "colab": {
          "base_uri": "https://localhost:8080/"
        },
        "id": "dHkuJTttGiOM",
        "outputId": "6919cf86-d6a4-4a07-f2a6-b16ab2479ca4"
      },
      "source": [
        "# Fitting the model\n",
        "X=df[[\"CRIM\",\"ZN\",\"INDUS\",\"CHAS\",\"NOX\",\"RM\",\"AGE\",\"DIS\",\"RAD\",\"TAX\",\"PTRATIO\",\"B\",\"LSTAT\"]]\n",
        "Y=df[\"HousePrice\"]\n",
        "X = sm.add_constant(X) # Unlike scikit-learn, Statsmodels does not include the intercept by default\n",
        "model = sm.OLS(Y, X)\n",
        "results = model.fit()\n",
        "print(results.summary())"
      ],
      "execution_count": null,
      "outputs": [
        {
          "output_type": "stream",
          "text": [
            "                            OLS Regression Results                            \n",
            "==============================================================================\n",
            "Dep. Variable:             HousePrice   R-squared:                       0.741\n",
            "Model:                            OLS   Adj. R-squared:                  0.734\n",
            "Method:                 Least Squares   F-statistic:                     108.1\n",
            "Date:                Sun, 31 Jan 2021   Prob (F-statistic):          6.72e-135\n",
            "Time:                        20:35:28   Log-Likelihood:                -1498.8\n",
            "No. Observations:                 506   AIC:                             3026.\n",
            "Df Residuals:                     492   BIC:                             3085.\n",
            "Df Model:                          13                                         \n",
            "Covariance Type:            nonrobust                                         \n",
            "==============================================================================\n",
            "                 coef    std err          t      P>|t|      [0.025      0.975]\n",
            "------------------------------------------------------------------------------\n",
            "const         36.4595      5.103      7.144      0.000      26.432      46.487\n",
            "CRIM          -0.1080      0.033     -3.287      0.001      -0.173      -0.043\n",
            "ZN             0.0464      0.014      3.382      0.001       0.019       0.073\n",
            "INDUS          0.0206      0.061      0.334      0.738      -0.100       0.141\n",
            "CHAS           2.6867      0.862      3.118      0.002       0.994       4.380\n",
            "NOX          -17.7666      3.820     -4.651      0.000     -25.272     -10.262\n",
            "RM             3.8099      0.418      9.116      0.000       2.989       4.631\n",
            "AGE            0.0007      0.013      0.052      0.958      -0.025       0.027\n",
            "DIS           -1.4756      0.199     -7.398      0.000      -1.867      -1.084\n",
            "RAD            0.3060      0.066      4.613      0.000       0.176       0.436\n",
            "TAX           -0.0123      0.004     -3.280      0.001      -0.020      -0.005\n",
            "PTRATIO       -0.9527      0.131     -7.283      0.000      -1.210      -0.696\n",
            "B              0.0093      0.003      3.467      0.001       0.004       0.015\n",
            "LSTAT         -0.5248      0.051    -10.347      0.000      -0.624      -0.425\n",
            "==============================================================================\n",
            "Omnibus:                      178.041   Durbin-Watson:                   1.078\n",
            "Prob(Omnibus):                  0.000   Jarque-Bera (JB):              783.126\n",
            "Skew:                           1.521   Prob(JB):                    8.84e-171\n",
            "Kurtosis:                       8.281   Cond. No.                     1.51e+04\n",
            "==============================================================================\n",
            "\n",
            "Warnings:\n",
            "[1] Standard Errors assume that the covariance matrix of the errors is correctly specified.\n",
            "[2] The condition number is large, 1.51e+04. This might indicate that there are\n",
            "strong multicollinearity or other numerical problems.\n"
          ],
          "name": "stdout"
        }
      ]
    },
    {
      "cell_type": "markdown",
      "metadata": {
        "id": "UUvzpnGfHLk4"
      },
      "source": [
        "## Assumptions\n",
        "\n",
        "#### **Linear relationship**: The relationship between the dependent variable y and the explanatory variables X is linear\n",
        "\n",
        "We can visually check this by fitting ordinary least squares (OLS) on some training data, and then using it to predict our training data. We then plot the predictions vs actual. We should observe that the points are approximately symmetric about a line through the origin with slope 1."
      ]
    },
    {
      "cell_type": "code",
      "metadata": {
        "colab": {
          "base_uri": "https://localhost:8080/",
          "height": 295
        },
        "id": "XtR_NhdUHJj4",
        "outputId": "cb82cf90-082a-4fa6-fa62-bb4eaeba88b7"
      },
      "source": [
        " results = model.fit()\n",
        " #predict y values for training data\n",
        " Y1 = model.predict(results.params)\n",
        "\n",
        " def abline(slope, intercept):\n",
        "     \"\"\"Plot a line from slope and intercept, borrowed from https://stackoverflow.com/questions/7941226/how-to-add-line-based-on-slope-and-intercept-in-matplotlib\"\"\"\n",
        "     axes = plt.gca()\n",
        "     x_vals = np.array(axes.get_xlim())\n",
        "     y_vals = intercept + slope * x_vals\n",
        "     plt.plot(x_vals, y_vals, '--')\n",
        "\n",
        " #plot predicted vs actual\n",
        " plt.plot(Y1,Y,'o')\n",
        " plt.xlabel('Predicted')#,color='white')\n",
        " plt.ylabel('Actual')#,color='white')\n",
        " plt.title('Predicted vs. Actual: Visual Linearity Test')#,color='white')\n",
        " plt.tick_params(axis='x', colors='black')\n",
        " plt.tick_params(axis='y', colors='black')\n",
        " abline(1,0)\n",
        " plt.show()\n"
      ],
      "execution_count": null,
      "outputs": [
        {
          "output_type": "display_data",
          "data": {
            "image/png": "[encoded data removed]",
            "text/plain": [
              "<Figure size 432x288 with 1 Axes>"
            ]
          },
          "metadata": {
            "tags": [],
            "needs_background": "light"
          }
        }
      ]
    },
    {
      "cell_type": "markdown",
      "metadata": {
        "id": "AFiIpuv69AKo"
      },
      "source": [
        "in this case that there is not a perfect linear relationship. Our predictions are biased towards lower values in both the lower end and especially at the higher values."
      ]
    },
    {
      "cell_type": "markdown",
      "metadata": {
        "id": "JDHL1TbTAGyA"
      },
      "source": [
        "#### No Multicollinearity\n",
        "\n",
        "We can compute the variance influence factors for each predicting variable. It is the ratio of variance in a model with multiple terms, divided by the variance of a model with one term alone.\n"
      ]
    },
    {
      "cell_type": "code",
      "metadata": {
        "colab": {
          "base_uri": "https://localhost:8080/"
        },
        "id": "8VaQVxFZ9fM5",
        "outputId": "0406b6f1-5444-406e-9637-89cfa880b682"
      },
      "source": [
        "from statsmodels.stats.outliers_influence import variance_inflation_factor as vif\n",
        "for i in range(len(df.columns[:-1])):\n",
        "  v=vif(np.matrix(df[:-1]),i)\n",
        "  print (\"Variance inflation factor for {}:{}\".format(df.columns[i],round(v,2)))"
      ],
      "execution_count": null,
      "outputs": [
        {
          "output_type": "stream",
          "text": [
            "Variance inflation factor for CRIM:2.13\n",
            "Variance inflation factor for ZN:2.92\n",
            "Variance inflation factor for INDUS:14.46\n",
            "Variance inflation factor for CHAS:1.18\n",
            "Variance inflation factor for NOX:73.91\n",
            "Variance inflation factor for RM:135.89\n",
            "Variance inflation factor for AGE:21.36\n",
            "Variance inflation factor for DIS:15.49\n",
            "Variance inflation factor for RAD:15.37\n",
            "Variance inflation factor for TAX:61.96\n",
            "Variance inflation factor for PTRATIO:87.63\n",
            "Variance inflation factor for B:21.31\n",
            "Variance inflation factor for LSTAT:12.76\n"
          ],
          "name": "stdout"
        }
      ]
    },
    {
      "cell_type": "markdown",
      "metadata": {
        "id": "g8HeH5YvAolu"
      },
      "source": [
        "We can see here several variables like ‘INDUS’, 'NOX', 'RM' have a high VIF value, meaning they can be predicted by other independent variables in the dataset."
      ]
    },
    {
      "cell_type": "markdown",
      "metadata": {
        "id": "EXi-Xo7oBIu3"
      },
      "source": [
        "#### Homoskedastic\n",
        "\n",
        "**The errors are assumed to have a constant variance**, whether the error terms is the same across all values of the independent variable."
      ]
    },
    {
      "cell_type": "code",
      "metadata": {
        "colab": {
          "base_uri": "https://localhost:8080/",
          "height": 295
        },
        "id": "BoSiL5e9_nLW",
        "outputId": "f750c587-4f13-4a3c-90c7-25bf0a9871b1"
      },
      "source": [
        "plt.plot(Y1,Y-Y1,'o')\n",
        "plt.xlabel(r'Predicted value')\n",
        "plt.ylabel(r'Residuals')\n",
        "plt.title('Predicted vs Residuals')\n",
        "plt.tick_params(axis='x')\n",
        "plt.tick_params(axis='y')\n",
        "abline(0,0)"
      ],
      "execution_count": null,
      "outputs": [
        {
          "output_type": "display_data",
          "data": {
            "image/png": "[encoded data removed]",
            "text/plain": [
              "<Figure size 432x288 with 1 Axes>"
            ]
          },
          "metadata": {
            "tags": [],
            "needs_background": "light"
          }
        }
      ]
    },
    {
      "cell_type": "markdown",
      "metadata": {
        "id": "IqoNTEyEDYDp"
      },
      "source": [
        "the residuals seem to increase as the fitted Y values increase. So, here heteroscedasticity exists."
      ]
    },
    {
      "cell_type": "markdown",
      "metadata": {
        "id": "Z2Ho0g_XE7b_"
      },
      "source": [
        "#### Normality of error"
      ]
    },
    {
      "cell_type": "code",
      "metadata": {
        "colab": {
          "base_uri": "https://localhost:8080/",
          "height": 312
        },
        "id": "1AC2Kc-dErtf",
        "outputId": "5085c174-80fe-444b-8726-930b4e407b36"
      },
      "source": [
        "import scipy.stats as stats \n",
        "stats.probplot(Y-Y1, dist=\"norm\", plot= plt)\n",
        "plt.title(\"Residuals Q-Q Plot\")"
      ],
      "execution_count": null,
      "outputs": [
        {
          "output_type": "execute_result",
          "data": {
            "text/plain": [
              "Text(0.5, 1.0, 'Residuals Q-Q Plot')"
            ]
          },
          "metadata": {
            "tags": []
          },
          "execution_count": 63
        },
        {
          "output_type": "display_data",
          "data": {
            "image/png": "[encoded data removed]",
            "text/plain": [
              "<Figure size 432x288 with 1 Axes>"
            ]
          },
          "metadata": {
            "tags": [],
            "needs_background": "light"
          }
        }
      ]
    },
    {
      "cell_type": "markdown",
      "metadata": {
        "id": "z0OOLf0yIKsH"
      },
      "source": [
        " Residuals do not follow Gaussian distribution "
      ]
    },
    {
      "cell_type": "markdown",
      "metadata": {
        "id": "e2lehvnzIf0m"
      },
      "source": [
        "## Two Python modules:\n",
        "\n",
        "### statsmodels\n",
        "- statsmodels — a module that provides classes and functions for the estimation of many different statistical models, as well as for conducting statistical tests, and statistical data exploration. **ols method in the statsmodels library.**\n",
        "\n",
        "#### OLS Regression: Error Minimization\n",
        "\n",
        "**OLS minimizes the sum of the squared residuals** between the regression line and the actual data.\n",
        "\n"
      ]
    },
    {
      "cell_type": "code",
      "metadata": {
        "id": "XN2fL_SEJIqJ"
      },
      "source": [
        "train_data,train_labels=X[:250],Y[:250]\n",
        "test_data, test_labels=X[250:],Y[250: ]"
      ],
      "execution_count": null,
      "outputs": []
    },
    {
      "cell_type": "code",
      "metadata": {
        "colab": {
          "base_uri": "https://localhost:8080/"
        },
        "id": "Xv2QkNiIGlp8",
        "outputId": "e984d52f-e943-44c1-c6c8-e21f5eb3481b"
      },
      "source": [
        "# Initialise and fit linear regression model using statsmodels\n",
        "ols_model = sm.OLS(train_labels,train_data) # sm.OLS(Y,X), Y has to be the first\n",
        "# Unlike scikit-learn, Statsmodels does not include the intercept by default\n",
        "train_data = sm.add_constant(train_data) \n",
        "ols_model = ols_model.fit()\n",
        "print(ols_model.summary()) # or ols_model.params "
      ],
      "execution_count": null,
      "outputs": [
        {
          "output_type": "stream",
          "text": [
            "                            OLS Regression Results                            \n",
            "==============================================================================\n",
            "Dep. Variable:             HousePrice   R-squared:                       0.856\n",
            "Model:                            OLS   Adj. R-squared:                  0.848\n",
            "Method:                 Least Squares   F-statistic:                     107.7\n",
            "Date:                Sun, 31 Jan 2021   Prob (F-statistic):           2.57e-91\n",
            "Time:                        20:43:58   Log-Likelihood:                -643.72\n",
            "No. Observations:                 250   AIC:                             1315.\n",
            "Df Residuals:                     236   BIC:                             1365.\n",
            "Df Model:                          13                                         \n",
            "Covariance Type:            nonrobust                                         \n",
            "==============================================================================\n",
            "                 coef    std err          t      P>|t|      [0.025      0.975]\n",
            "------------------------------------------------------------------------------\n",
            "const         -9.9403      5.879     -1.691      0.092     -21.522       1.641\n",
            "CRIM           1.2087      0.517      2.340      0.020       0.191       2.226\n",
            "ZN             0.0247      0.014      1.763      0.079      -0.003       0.052\n",
            "INDUS          0.0101      0.051      0.198      0.844      -0.091       0.111\n",
            "CHAS           0.4227      0.816      0.518      0.605      -1.184       2.030\n",
            "NOX           -8.4804      4.493     -1.887      0.060     -17.332       0.372\n",
            "RM             8.8656      0.494     17.965      0.000       7.893       9.838\n",
            "AGE           -0.0488      0.012     -4.163      0.000      -0.072      -0.026\n",
            "DIS           -1.1232      0.212     -5.294      0.000      -1.541      -0.705\n",
            "RAD            0.2090      0.151      1.382      0.168      -0.089       0.507\n",
            "TAX           -0.0160      0.004     -4.072      0.000      -0.024      -0.008\n",
            "PTRATIO       -0.6580      0.124     -5.289      0.000      -0.903      -0.413\n",
            "B              0.0178      0.005      3.411      0.001       0.008       0.028\n",
            "LSTAT         -0.1155      0.057     -2.026      0.044      -0.228      -0.003\n",
            "==============================================================================\n",
            "Omnibus:                       20.301   Durbin-Watson:                   1.317\n",
            "Prob(Omnibus):                  0.000   Jarque-Bera (JB):               23.623\n",
            "Skew:                           0.646   Prob(JB):                     7.42e-06\n",
            "Kurtosis:                       3.772   Cond. No.                     1.62e+04\n",
            "==============================================================================\n",
            "\n",
            "Warnings:\n",
            "[1] Standard Errors assume that the covariance matrix of the errors is correctly specified.\n",
            "[2] The condition number is large, 1.62e+04. This might indicate that there are\n",
            "strong multicollinearity or other numerical problems.\n"
          ],
          "name": "stdout"
        }
      ]
    },
    {
      "cell_type": "code",
      "metadata": {
        "colab": {
          "base_uri": "https://localhost:8080/",
          "height": 377
        },
        "id": "_sOdC7RIMWTI",
        "outputId": "5d1c16fa-5c78-4a96-f6d1-27d0aa306b3f"
      },
      "source": [
        "# predict on test data\n",
        "ols_predict=ols_model.predict(test_data)\n",
        "# Plot regression against actual data\n",
        "plt.figure(figsize=(12, 6))\n",
        "plt.plot(test_labels, 'o')  # scatter plot showing actual data\n",
        "plt.plot(ols_predict, 'r', linewidth=2)   # regression line\n",
        "plt.show()"
      ],
      "execution_count": null,
      "outputs": [
        {
          "output_type": "display_data",
          "data": {
            "image/png": "[encoded data removed]",
            "text/plain": [
              "<Figure size 864x432 with 1 Axes>"
            ]
          },
          "metadata": {
            "tags": [],
            "needs_background": "light"
          }
        }
      ]
    },
    {
      "cell_type": "markdown",
      "metadata": {
        "id": "MymXdOI0JlBe"
      },
      "source": [
        "### scikit-learn\n",
        "\n",
        "a module that provides simple and efficient tools for data mining and data analysis.\n"
      ]
    },
    {
      "cell_type": "code",
      "metadata": {
        "id": "ZiUeTCuzJmBB"
      },
      "source": [
        "from sklearn.linear_model import LinearRegression\n",
        "from sklearn.metrics import mean_squared_error, r2_score\n",
        "## Initialise and fit linear regression model using sklearn\n",
        "# Create linear regression object\n",
        "lr_model=LinearRegression()\n",
        "# Train the model using the training sets\n",
        "lr_model=lr_model.fit(train_data,train_labels) #LinearRegression().fit(X, y)\n",
        "# Make predictions using the testing set\n",
        "lr_predict=lr_model.predict(test_data)"
      ],
      "execution_count": null,
      "outputs": []
    },
    {
      "cell_type": "markdown",
      "metadata": {
        "id": "Vu-OXcSXPDVA"
      },
      "source": [
        "statsmodels package gives a quiet decent summary, for LinearRegression, we have to manually print out the result"
      ]
    },
    {
      "cell_type": "code",
      "metadata": {
        "colab": {
          "base_uri": "https://localhost:8080/"
        },
        "id": "gQ1DoX3eNHUC",
        "outputId": "95b16df9-8820-451d-bf35-48d75f51c428"
      },
      "source": [
        "# Return the coefficient of determination R^2 of the prediction.\n",
        "print('R square \\n', lr_model.score(train_data,train_labels))\n",
        "print('Coefficients: \\n', lr_model.coef_)\n",
        "print('Intercept\\n',lr_model.intercept_)\n",
        "# The mean squared error\n",
        "print('Mean squared error: %.2f'\n",
        "      % mean_squared_error(test_labels, lr_predict))"
      ],
      "execution_count": null,
      "outputs": [
        {
          "output_type": "stream",
          "text": [
            "R square \n",
            " 0.8557424471450606\n",
            "Coefficients: \n",
            " [ 0.          1.2087076   0.02467928  0.0101453   0.42273515 -8.48035596\n",
            "  8.86555583 -0.048789   -1.12317328  0.20895074 -0.01600828 -0.65801037\n",
            "  0.01780364 -0.11553178]\n",
            "Intercept\n",
            " -9.940330973509475\n",
            "Mean squared error: 304.11\n"
          ],
          "name": "stdout"
        }
      ]
    }
  ]
}
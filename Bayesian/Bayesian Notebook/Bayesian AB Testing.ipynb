{
 "cells": [
  {
   "cell_type": "code",
   "execution_count": 9,
   "id": "feaef807",
   "metadata": {},
   "outputs": [],
   "source": [
    "#import packages\n",
    "import pandas as pd\n",
    "import numpy as np\n",
    "import matplotlib.pyplot as plt\n",
    "%matplotlib inline \n",
    "import seaborn as sns\n",
    "from math import lgamma\n",
    "from numba import jit\n",
    "# Linear Regression to verify implementation\n",
    "from sklearn.linear_model import LinearRegression\n",
    "import scipy\n",
    "import pymc3 as pm\n",
    "from IPython.core.pylabtools import figsize"
   ]
  },
  {
   "cell_type": "code",
   "execution_count": 10,
   "id": "244e285a",
   "metadata": {},
   "outputs": [],
   "source": [
    "visitor_c = 33444\n",
    "visitor_v1 = 33582\n",
    "visitor_v2 = 33341\n",
    "cv_c = 3669\n",
    "cv_v1 = 3601\n",
    "cv_v2 = 3460"
   ]
  },
  {
   "cell_type": "code",
   "execution_count": 3,
   "id": "626b7124",
   "metadata": {},
   "outputs": [
    {
     "name": "stderr",
     "output_type": "stream",
     "text": [
      "<ipython-input-3-7e109baa5401>:15: FutureWarning: In v4.0, pm.sample will return an `arviz.InferenceData` object instead of a `MultiTrace` by default. You can pass return_inferencedata=True or return_inferencedata=False to be safe and silence this warning.\n",
      "  trace_c= pm.sample(5000, tune=500, step=step)\n",
      "Multiprocess sampling (4 chains in 4 jobs)\n",
      "Metropolis: [cvr_c]\n"
     ]
    },
    {
     "data": {
      "text/html": [
       "\n",
       "    <div>\n",
       "        <style>\n",
       "            /* Turns off some styling */\n",
       "            progress {\n",
       "                /* gets rid of default border in Firefox and Opera. */\n",
       "                border: none;\n",
       "                /* Needs to be in here for Safari polyfill so background images work as expected. */\n",
       "                background-size: auto;\n",
       "            }\n",
       "            .progress-bar-interrupted, .progress-bar-interrupted::-webkit-progress-bar {\n",
       "                background: #F44336;\n",
       "            }\n",
       "        </style>\n",
       "      <progress value='22000' class='' max='22000' style='width:300px; height:20px; vertical-align: middle;'></progress>\n",
       "      100.00% [22000/22000 00:02<00:00 Sampling 4 chains, 0 divergences]\n",
       "    </div>\n",
       "    "
      ],
      "text/plain": [
       "<IPython.core.display.HTML object>"
      ]
     },
     "metadata": {},
     "output_type": "display_data"
    },
    {
     "name": "stderr",
     "output_type": "stream",
     "text": [
      "Sampling 4 chains for 500 tune and 5_000 draw iterations (2_000 + 20_000 draws total) took 22 seconds.\n",
      "The number of effective samples is smaller than 10% for some parameters.\n",
      "<ipython-input-3-7e109baa5401>:34: FutureWarning: In v4.0, pm.sample will return an `arviz.InferenceData` object instead of a `MultiTrace` by default. You can pass return_inferencedata=True or return_inferencedata=False to be safe and silence this warning.\n",
      "  trace_v1 = pm.sample(5000, tune=500, step=step)\n",
      "Multiprocess sampling (4 chains in 4 jobs)\n",
      "Metropolis: [cvr_v1 ]\n"
     ]
    },
    {
     "data": {
      "text/html": [
       "\n",
       "    <div>\n",
       "        <style>\n",
       "            /* Turns off some styling */\n",
       "            progress {\n",
       "                /* gets rid of default border in Firefox and Opera. */\n",
       "                border: none;\n",
       "                /* Needs to be in here for Safari polyfill so background images work as expected. */\n",
       "                background-size: auto;\n",
       "            }\n",
       "            .progress-bar-interrupted, .progress-bar-interrupted::-webkit-progress-bar {\n",
       "                background: #F44336;\n",
       "            }\n",
       "        </style>\n",
       "      <progress value='22000' class='' max='22000' style='width:300px; height:20px; vertical-align: middle;'></progress>\n",
       "      100.00% [22000/22000 00:02<00:00 Sampling 4 chains, 0 divergences]\n",
       "    </div>\n",
       "    "
      ],
      "text/plain": [
       "<IPython.core.display.HTML object>"
      ]
     },
     "metadata": {},
     "output_type": "display_data"
    },
    {
     "name": "stderr",
     "output_type": "stream",
     "text": [
      "Sampling 4 chains for 500 tune and 5_000 draw iterations (2_000 + 20_000 draws total) took 23 seconds.\n",
      "The number of effective samples is smaller than 10% for some parameters.\n",
      "<ipython-input-3-7e109baa5401>:54: FutureWarning: In v4.0, pm.sample will return an `arviz.InferenceData` object instead of a `MultiTrace` by default. You can pass return_inferencedata=True or return_inferencedata=False to be safe and silence this warning.\n",
      "  trace_v2=pm.sample(5000, tune=500, step=step)\n",
      "Multiprocess sampling (4 chains in 4 jobs)\n",
      "Metropolis: [cvr_v2]\n"
     ]
    },
    {
     "data": {
      "text/html": [
       "\n",
       "    <div>\n",
       "        <style>\n",
       "            /* Turns off some styling */\n",
       "            progress {\n",
       "                /* gets rid of default border in Firefox and Opera. */\n",
       "                border: none;\n",
       "                /* Needs to be in here for Safari polyfill so background images work as expected. */\n",
       "                background-size: auto;\n",
       "            }\n",
       "            .progress-bar-interrupted, .progress-bar-interrupted::-webkit-progress-bar {\n",
       "                background: #F44336;\n",
       "            }\n",
       "        </style>\n",
       "      <progress value='22000' class='' max='22000' style='width:300px; height:20px; vertical-align: middle;'></progress>\n",
       "      100.00% [22000/22000 00:02<00:00 Sampling 4 chains, 0 divergences]\n",
       "    </div>\n",
       "    "
      ],
      "text/plain": [
       "<IPython.core.display.HTML object>"
      ]
     },
     "metadata": {},
     "output_type": "display_data"
    },
    {
     "name": "stderr",
     "output_type": "stream",
     "text": [
      "Sampling 4 chains for 500 tune and 5_000 draw iterations (2_000 + 20_000 draws total) took 26 seconds.\n",
      "The number of effective samples is smaller than 10% for some parameters.\n"
     ]
    }
   ],
   "source": [
    "# control group\n",
    "with pm.Model() as model_c:\n",
    "    \n",
    "    # initiate the prior distribution \n",
    "    cvr_c = pm.Uniform('cvr_c', lower=0, upper=1) \n",
    "    \n",
    "    # fit model with the observed data\n",
    "    obs_c = pm.Binomial(\"obs\", n=visitor_c, p = cvr_c, observed=cv_c) \n",
    "    \n",
    "    # using the Monte Carlo method to approximate the posterior distributions\n",
    "    step = pm.Metropolis()\n",
    "    \n",
    "    # sampling from the posterior distriubtion\n",
    "    # draw sample of 5000 and set iterations of 500\n",
    "    trace_c= pm.sample(5000, tune=500, step=step) \n",
    "    \n",
    "    # the results can be unstable at the beginning, so here only withdraw samples after a certain period of iterations\n",
    "    burned_trace_c=trace_c[1000:]\n",
    "\n",
    "# var1\n",
    "with pm.Model() as model_v1:\n",
    "    \n",
    "    # initiate the prior distribution \n",
    "    cvr_v1 = pm.Uniform('cvr_v1 ', lower=0, upper=1)  \n",
    "    \n",
    "    # fit model with the observed data\n",
    "    obs_v1 = pm.Binomial(\"obs_v1\", n=visitor_v1, p=cvr_v1, observed=cv_v1)\n",
    "    \n",
    "    # using the Monte Carlo method to approximate the posterior distributions\n",
    "    step = pm.Metropolis()\n",
    "    \n",
    "     # sampling from the posterior distriubtion\n",
    "    # draw sample of 5000 and set iterations of 500\n",
    "    trace_v1 = pm.sample(5000, tune=500, step=step)\n",
    "    \n",
    "    # the results can be unstable at the beginning, so here only withdraw samples after a certain period of iterations\n",
    "    burned_trace_v1=trace_v1[1000:]\n",
    "    \n",
    "    \n",
    "# var2\n",
    "with pm.Model() as model_v2:\n",
    "    \n",
    "    #set the prior distribution of $p_B$.\n",
    "    cvr_v2=pm.Uniform('cvr_v2', lower=0, upper=1)  \n",
    "    \n",
    "    # fit model with the observed data\n",
    "    obs_v2 = pm.Binomial(\"obs_v2\", n = visitor_v2, p=cvr_v2, observed=cv_v2)\n",
    "    \n",
    "    # using the Monte Carlo method to approximate the posterior distributions\n",
    "    step=pm.Metropolis()\n",
    "    \n",
    "     # sampling from the posterior distriubtion\n",
    "    # draw sample of 5000 and set iterations of 500\n",
    "    trace_v2=pm.sample(5000, tune=500, step=step)\n",
    "    \n",
    "    # the results can be unstable at the beginning, so here only withdraw samples after a certain period of iterations\n",
    "    burned_trace_v2=trace_v2[1000:]"
   ]
  },
  {
   "cell_type": "code",
   "execution_count": 4,
   "id": "96be6fc1",
   "metadata": {},
   "outputs": [
    {
     "data": {
      "text/plain": [
       "0.10969003376825819"
      ]
     },
     "execution_count": 4,
     "metadata": {},
     "output_type": "execute_result"
    }
   ],
   "source": [
    "# estimate for conversion rate of the posterior distribution \n",
    "samples_posterior_c = burned_trace_c['cvr_c']\n",
    "samples_posterior_c.mean()"
   ]
  },
  {
   "cell_type": "code",
   "execution_count": 5,
   "id": "08a7bfab",
   "metadata": {},
   "outputs": [
    {
     "data": {
      "text/plain": [
       "0.10382341144808038"
      ]
     },
     "execution_count": 5,
     "metadata": {},
     "output_type": "execute_result"
    }
   ],
   "source": [
    "samples_posterior_v2 = burned_trace_v2['cvr_v2']\n",
    "samples_posterior_v2.mean()"
   ]
  },
  {
   "cell_type": "code",
   "execution_count": 11,
   "id": "63b51c58",
   "metadata": {},
   "outputs": [
    {
     "data": {
      "image/png": "[encoded data removed]",
      "text/plain": [
       "<Figure size 900x288 with 1 Axes>"
      ]
     },
     "metadata": {
      "needs_background": "light"
     },
     "output_type": "display_data"
    }
   ],
   "source": [
    "figsize(12, 4)\n",
    "\n",
    "plt.hist(samples_posterior_c, bins=40, label='posterior of control', density=False)\n",
    "plt.hist(samples_posterior_v2, bins=40, label='posterior of var2', density=False)\n",
    "plt.xlabel('Conversion Rate')\n",
    "plt.ylabel('Density')\n",
    "plt.title(\"Posterior distributions of the conversion rates of control group and var2\")\n",
    "plt.legend()\n",
    "plt.show()"
   ]
  },
  {
   "cell_type": "code",
   "execution_count": 16,
   "id": "c10ff404",
   "metadata": {},
   "outputs": [
    {
     "data": {
      "image/png": "[encoded data removed]",
      "text/plain": [
       "<Figure size 864x288 with 1 Axes>"
      ]
     },
     "metadata": {
      "needs_background": "light"
     },
     "output_type": "display_data"
    }
   ],
   "source": [
    "# calculate relative difference\n",
    "figsize(12, 4)\n",
    "difference = (samples_posterior_v2 - samples_posterior_c)/samples_posterior_c\n",
    "plt.hist(difference, bins=40, density=True)\n",
    "plt.vlines(-0.05, 0, 20, linestyle='-', color='red')\n",
    "plt.title('Posterior distribution of the difference of the two means')\n",
    "plt.show()"
   ]
  },
  {
   "cell_type": "code",
   "execution_count": 8,
   "id": "472636f3",
   "metadata": {},
   "outputs": [
    {
     "data": {
      "text/plain": [
       "0.573875"
      ]
     },
     "execution_count": 8,
     "metadata": {},
     "output_type": "execute_result"
    }
   ],
   "source": [
    "# #probability of 5% decrease in var 2\n",
    "len(difference[difference < -0.05])/len(difference)"
   ]
  },
  {
   "cell_type": "code",
   "execution_count": null,
   "id": "075942a1",
   "metadata": {},
   "outputs": [],
   "source": []
  }
 ],
 "metadata": {
  "kernelspec": {
   "display_name": "Python 3",
   "language": "python",
   "name": "python3"
  },
  "language_info": {
   "codemirror_mode": {
    "name": "ipython",
    "version": 3
   },
   "file_extension": ".py",
   "mimetype": "text/x-python",
   "name": "python",
   "nbconvert_exporter": "python",
   "pygments_lexer": "ipython3",
   "version": "3.8.8"
  }
 },
 "nbformat": 4,
 "nbformat_minor": 5
}

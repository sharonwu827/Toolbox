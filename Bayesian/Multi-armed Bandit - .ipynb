{
 "cells": [
  {
   "cell_type": "markdown",
   "metadata": {},
   "source": [
    "# Multi-armed bandit\n",
    "\n",
    "Whereas A/B testing is a frequentist approach, we can also conduct the test from the Bayesian way. It is understandable that once we see one treatment is clearly better, we want to add more users to that treatment right away. Multi-armed bandit experiment makes this possible in a controlled way.\n",
    "\n",
    "The foundation of the multi-armed bandit experiment is Bayesian updating. Each treatment (called “arm”) has a probability of success, which is modeled as a Bernoulli process. The probability of success is unknown, and is modeled by a **Beta distribution**. As the experiment continues, each arm receives user traffic, and the Beta distribution is updated accordingly.\n",
    "\n",
    "**Goal for the analysis:**\n",
    "\n",
    "Suppose there are K arms. Each arm is an ad with click-through rate (ctr) that follows a Beta distribution. The goal of the experiment is to find the ad with the highest click through rate."
   ]
  },
  {
   "cell_type": "markdown",
   "metadata": {},
   "source": [
    "## Adjusting the New Assignment Distribution\n",
    "\n",
    "The key feature of a multi-armed bandit experiment is its ability to react to data and adjust the new assignment distribution. **All multi armed bandit tests start by distributing the traffic equally among the variants**. Now that we have the exposure and conversion data, how should we adjust the distribution? There are a a few different solutions to the multi armed bandit problem.\n"
   ]
  },
  {
   "cell_type": "code",
   "execution_count": null,
   "metadata": {},
   "outputs": [],
   "source": [
    "\n"
   ]
  }
 ],
 "metadata": {
  "kernelspec": {
   "display_name": "Python 3",
   "language": "python",
   "name": "python3"
  },
  "language_info": {
   "codemirror_mode": {
    "name": "ipython",
    "version": 3
   },
   "file_extension": ".py",
   "mimetype": "text/x-python",
   "name": "python",
   "nbconvert_exporter": "python",
   "pygments_lexer": "ipython3",
   "version": "3.8.5"
  }
 },
 "nbformat": 4,
 "nbformat_minor": 4
}
